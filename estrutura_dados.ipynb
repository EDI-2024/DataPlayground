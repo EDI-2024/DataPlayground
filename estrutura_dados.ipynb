{
 "cells": [
  {
   "cell_type": "code",
   "execution_count": 8,
   "metadata": {},
   "outputs": [],
   "source": [
    "import pandas as pd\n",
    "import numpy as np\n",
    "from scipy.sparse import coo_matrix\n",
    "import sys"
   ]
  },
  {
   "cell_type": "markdown",
   "metadata": {},
   "source": [
    "# Dataset de exemplo\n",
    "\n",
    "https://www.kaggle.com/datasets/mexwell/heart-disease-dataset"
   ]
  },
  {
   "cell_type": "code",
   "execution_count": 9,
   "metadata": {},
   "outputs": [],
   "source": [
    "df = pd.read_csv(\"heart_statlog_cleveland_hungary_final.csv\")"
   ]
  },
  {
   "cell_type": "code",
   "execution_count": 10,
   "metadata": {},
   "outputs": [
    {
     "data": {
      "text/html": [
       "<div>\n",
       "<style scoped>\n",
       "    .dataframe tbody tr th:only-of-type {\n",
       "        vertical-align: middle;\n",
       "    }\n",
       "\n",
       "    .dataframe tbody tr th {\n",
       "        vertical-align: top;\n",
       "    }\n",
       "\n",
       "    .dataframe thead th {\n",
       "        text-align: right;\n",
       "    }\n",
       "</style>\n",
       "<table border=\"1\" class=\"dataframe\">\n",
       "  <thead>\n",
       "    <tr style=\"text-align: right;\">\n",
       "      <th></th>\n",
       "      <th>age</th>\n",
       "      <th>sex</th>\n",
       "      <th>max heart rate</th>\n",
       "      <th>chest pain type</th>\n",
       "      <th>target</th>\n",
       "    </tr>\n",
       "  </thead>\n",
       "  <tbody>\n",
       "    <tr>\n",
       "      <th>0</th>\n",
       "      <td>40</td>\n",
       "      <td>1</td>\n",
       "      <td>172</td>\n",
       "      <td>2</td>\n",
       "      <td>0</td>\n",
       "    </tr>\n",
       "    <tr>\n",
       "      <th>1</th>\n",
       "      <td>49</td>\n",
       "      <td>0</td>\n",
       "      <td>156</td>\n",
       "      <td>3</td>\n",
       "      <td>1</td>\n",
       "    </tr>\n",
       "    <tr>\n",
       "      <th>2</th>\n",
       "      <td>37</td>\n",
       "      <td>1</td>\n",
       "      <td>98</td>\n",
       "      <td>2</td>\n",
       "      <td>0</td>\n",
       "    </tr>\n",
       "    <tr>\n",
       "      <th>3</th>\n",
       "      <td>48</td>\n",
       "      <td>0</td>\n",
       "      <td>108</td>\n",
       "      <td>4</td>\n",
       "      <td>1</td>\n",
       "    </tr>\n",
       "    <tr>\n",
       "      <th>4</th>\n",
       "      <td>54</td>\n",
       "      <td>1</td>\n",
       "      <td>122</td>\n",
       "      <td>3</td>\n",
       "      <td>0</td>\n",
       "    </tr>\n",
       "    <tr>\n",
       "      <th>...</th>\n",
       "      <td>...</td>\n",
       "      <td>...</td>\n",
       "      <td>...</td>\n",
       "      <td>...</td>\n",
       "      <td>...</td>\n",
       "    </tr>\n",
       "    <tr>\n",
       "      <th>1185</th>\n",
       "      <td>45</td>\n",
       "      <td>1</td>\n",
       "      <td>132</td>\n",
       "      <td>1</td>\n",
       "      <td>1</td>\n",
       "    </tr>\n",
       "    <tr>\n",
       "      <th>1186</th>\n",
       "      <td>68</td>\n",
       "      <td>1</td>\n",
       "      <td>141</td>\n",
       "      <td>4</td>\n",
       "      <td>1</td>\n",
       "    </tr>\n",
       "    <tr>\n",
       "      <th>1187</th>\n",
       "      <td>57</td>\n",
       "      <td>1</td>\n",
       "      <td>115</td>\n",
       "      <td>4</td>\n",
       "      <td>1</td>\n",
       "    </tr>\n",
       "    <tr>\n",
       "      <th>1188</th>\n",
       "      <td>57</td>\n",
       "      <td>0</td>\n",
       "      <td>174</td>\n",
       "      <td>2</td>\n",
       "      <td>1</td>\n",
       "    </tr>\n",
       "    <tr>\n",
       "      <th>1189</th>\n",
       "      <td>38</td>\n",
       "      <td>1</td>\n",
       "      <td>173</td>\n",
       "      <td>3</td>\n",
       "      <td>0</td>\n",
       "    </tr>\n",
       "  </tbody>\n",
       "</table>\n",
       "<p>1190 rows × 5 columns</p>\n",
       "</div>"
      ],
      "text/plain": [
       "      age  sex  max heart rate  chest pain type  target\n",
       "0      40    1             172                2       0\n",
       "1      49    0             156                3       1\n",
       "2      37    1              98                2       0\n",
       "3      48    0             108                4       1\n",
       "4      54    1             122                3       0\n",
       "...   ...  ...             ...              ...     ...\n",
       "1185   45    1             132                1       1\n",
       "1186   68    1             141                4       1\n",
       "1187   57    1             115                4       1\n",
       "1188   57    0             174                2       1\n",
       "1189   38    1             173                3       0\n",
       "\n",
       "[1190 rows x 5 columns]"
      ]
     },
     "execution_count": 10,
     "metadata": {},
     "output_type": "execute_result"
    }
   ],
   "source": [
    "df[[\"age\",\"sex\",\"max heart rate\",\"chest pain type\",\"target\"]]"
   ]
  },
  {
   "cell_type": "markdown",
   "metadata": {},
   "source": [
    "# Trabalho de compressão"
   ]
  },
  {
   "cell_type": "code",
   "execution_count": 17,
   "metadata": {},
   "outputs": [
    {
     "name": "stdout",
     "output_type": "stream",
     "text": [
      "Size of dense matrix: 192 bytes\n",
      "Size of sparse matrix: 384 bytes\n",
      "Reduction in memory size: 50.00%\n",
      "[0 1 2 3] [2 1 0 3] [3 2 1 4]\n"
     ]
    }
   ],
   "source": [
    "\n",
    "\n",
    "# Create a dense matrix\n",
    "dense_matrix = np.array([\n",
    "    [0, 0, 3, 0],\n",
    "    [0, 2, 0, 0],\n",
    "    [1, 0, 0, 0],\n",
    "    [0, 0, 0, 4]\n",
    "])\n",
    "\n",
    "# Create a sparse matrix (COO format)\n",
    "sparse_matrix = coo_matrix(dense_matrix)\n",
    "\n",
    "# Calculate the size of the dense matrix in bytes\n",
    "dense_size = sys.getsizeof(dense_matrix)\n",
    "\n",
    "# Calculate the size of the sparse matrix in bytes\n",
    "sparse_size = sys.getsizeof(sparse_matrix.data) + sys.getsizeof(sparse_matrix.row) + sys.getsizeof(sparse_matrix.col)\n",
    "\n",
    "# Print the sizes\n",
    "print(f\"Size of dense matrix: {dense_size} bytes\")\n",
    "print(f\"Size of sparse matrix: {sparse_size} bytes\")\n",
    "\n",
    "# Calculate the reduction in size\n",
    "reduction = (  dense_size/sparse_size) * 100\n",
    "print(f\"Reduction in memory size: {reduction:.2f}%\")\n",
    "print(sparse_matrix.row,sparse_matrix.col,sparse_matrix.data)"
   ]
  }
 ],
 "metadata": {
  "kernelspec": {
   "display_name": "base",
   "language": "python",
   "name": "python3"
  },
  "language_info": {
   "codemirror_mode": {
    "name": "ipython",
    "version": 3
   },
   "file_extension": ".py",
   "mimetype": "text/x-python",
   "name": "python",
   "nbconvert_exporter": "python",
   "pygments_lexer": "ipython3",
   "version": "3.11.7"
  }
 },
 "nbformat": 4,
 "nbformat_minor": 2
}
